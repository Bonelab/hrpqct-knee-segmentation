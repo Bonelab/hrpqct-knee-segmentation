{
 "cells": [
  {
   "cell_type": "code",
   "execution_count": 1,
   "id": "d1d84608",
   "metadata": {},
   "outputs": [],
   "source": [
    "import pandas as pd\n",
    "from matplotlib import pyplot as plt\n",
    "import seaborn as sns\n",
    "from glob import glob\n",
    "from os import path\n",
    "import yaml\n",
    "\n",
    "import torch\n",
    "from torch.nn import L1Loss\n",
    "\n",
    "from blpytorchlightning.models.SeGAN import get_segmentor_and_discriminators\n",
    "from blpytorchlightning.tasks.SeGANTask import SeGANTask\n",
    "from blpytorchlightning.dataset_components.datasets.PickledDataset import PickledDataset"
   ]
  },
  {
   "cell_type": "code",
   "execution_count": 2,
   "id": "1781c675",
   "metadata": {},
   "outputs": [
    {
     "data": {
      "text/html": [
       "<div>\n",
       "<style scoped>\n",
       "    .dataframe tbody tr th:only-of-type {\n",
       "        vertical-align: middle;\n",
       "    }\n",
       "\n",
       "    .dataframe tbody tr th {\n",
       "        vertical-align: top;\n",
       "    }\n",
       "\n",
       "    .dataframe thead th {\n",
       "        text-align: right;\n",
       "    }\n",
       "</style>\n",
       "<table border=\"1\" class=\"dataframe\">\n",
       "  <thead>\n",
       "    <tr style=\"text-align: right;\">\n",
       "      <th></th>\n",
       "      <th>label</th>\n",
       "      <th>version</th>\n",
       "      <th>metrics_val_dsc_0_epoch_final</th>\n",
       "      <th>metrics_val_dsc_1_epoch_final</th>\n",
       "      <th>metrics_val_dsc_2_epoch_final</th>\n",
       "    </tr>\n",
       "  </thead>\n",
       "  <tbody>\n",
       "    <tr>\n",
       "      <th>0</th>\n",
       "      <td>segan_3d_knee_base_cv</td>\n",
       "      <td>21100349</td>\n",
       "      <td>0.866667</td>\n",
       "      <td>0.974689</td>\n",
       "      <td>0.980413</td>\n",
       "    </tr>\n",
       "    <tr>\n",
       "      <th>1</th>\n",
       "      <td>segresnetvae_3d_knee_base_cv</td>\n",
       "      <td>21100369</td>\n",
       "      <td>0.630039</td>\n",
       "      <td>0.879377</td>\n",
       "      <td>0.799843</td>\n",
       "    </tr>\n",
       "    <tr>\n",
       "      <th>2</th>\n",
       "      <td>unet_3d_knee_base_cv</td>\n",
       "      <td>21100397</td>\n",
       "      <td>0.797375</td>\n",
       "      <td>0.953737</td>\n",
       "      <td>0.967423</td>\n",
       "    </tr>\n",
       "    <tr>\n",
       "      <th>3</th>\n",
       "      <td>unetpp_3d_knee_base_cv</td>\n",
       "      <td>21100408</td>\n",
       "      <td>0.831101</td>\n",
       "      <td>0.973065</td>\n",
       "      <td>0.983647</td>\n",
       "    </tr>\n",
       "    <tr>\n",
       "      <th>4</th>\n",
       "      <td>unetr_3d_knee_base_cv</td>\n",
       "      <td>21100414</td>\n",
       "      <td>0.813753</td>\n",
       "      <td>0.959312</td>\n",
       "      <td>0.958588</td>\n",
       "    </tr>\n",
       "  </tbody>\n",
       "</table>\n",
       "</div>"
      ],
      "text/plain": [
       "                          label   version  metrics_val_dsc_0_epoch_final  \\\n",
       "0         segan_3d_knee_base_cv  21100349                       0.866667   \n",
       "1  segresnetvae_3d_knee_base_cv  21100369                       0.630039   \n",
       "2          unet_3d_knee_base_cv  21100397                       0.797375   \n",
       "3        unetpp_3d_knee_base_cv  21100408                       0.831101   \n",
       "4         unetr_3d_knee_base_cv  21100414                       0.813753   \n",
       "\n",
       "   metrics_val_dsc_1_epoch_final  metrics_val_dsc_2_epoch_final  \n",
       "0                       0.974689                       0.980413  \n",
       "1                       0.879377                       0.799843  \n",
       "2                       0.953737                       0.967423  \n",
       "3                       0.973065                       0.983647  \n",
       "4                       0.959312                       0.958588  "
      ]
     },
     "execution_count": 2,
     "metadata": {},
     "output_type": "execute_result"
    }
   ],
   "source": [
    "df = pd.read_csv(path.join(\"..\", \"from_arc\", \"knee_base_cv.csv\"))\n",
    "df = df[[\n",
    "    \"label\", \"version\", \"fold\", \n",
    "    \"metrics_val_dsc_0_epoch_final\", \n",
    "    \"metrics_val_dsc_1_epoch_final\",\n",
    "    \"metrics_val_dsc_2_epoch_final\"\n",
    "]]\n",
    "df = df.groupby([\"label\", \"version\"]).mean().drop(columns=[\"fold\"])\n",
    "df = df[\n",
    "    df.groupby([\"label\"])[\"metrics_val_dsc_0_epoch_final\"].transform(max) \n",
    "    == df[\"metrics_val_dsc_0_epoch_final\"]\n",
    "].dropna()\n",
    "df = df.reset_index()\n",
    "df"
   ]
  },
  {
   "cell_type": "code",
   "execution_count": 3,
   "id": "2546fd64",
   "metadata": {},
   "outputs": [],
   "source": [
    "df[\"label\"] = df[\"label\"].apply(lambda x: x[0:-16])\n",
    "\n",
    "labels_renaming = {\n",
    "    \"unet\": \"UNet\",\n",
    "    \"unetpp\": \"UNet++\",\n",
    "    \"unetr\": \"UNETR\",\n",
    "    \"segresnetvae\": \"SegResNetVAE\",\n",
    "    \"segan\": \"SeGAN\"\n",
    "}\n",
    "df = df.replace({\"label\": labels_renaming})\n",
    "\n",
    "df = df.rename(\n",
    "    columns = {\n",
    "        \"metrics_val_dsc_0_epoch_final\": \"cort DSC\",\n",
    "        \"metrics_val_dsc_1_epoch_final\": \"trab DSC\",\n",
    "        \"metrics_val_dsc_2_epoch_final\": \"back DSC\"\n",
    "    }\n",
    ")"
   ]
  },
  {
   "cell_type": "code",
   "execution_count": 4,
   "id": "702d1e47",
   "metadata": {},
   "outputs": [
    {
     "data": {
      "text/html": [
       "<div>\n",
       "<style scoped>\n",
       "    .dataframe tbody tr th:only-of-type {\n",
       "        vertical-align: middle;\n",
       "    }\n",
       "\n",
       "    .dataframe tbody tr th {\n",
       "        vertical-align: top;\n",
       "    }\n",
       "\n",
       "    .dataframe thead th {\n",
       "        text-align: right;\n",
       "    }\n",
       "</style>\n",
       "<table border=\"1\" class=\"dataframe\">\n",
       "  <thead>\n",
       "    <tr style=\"text-align: right;\">\n",
       "      <th></th>\n",
       "      <th>label</th>\n",
       "      <th>version</th>\n",
       "      <th>cort DSC</th>\n",
       "      <th>trab DSC</th>\n",
       "      <th>back DSC</th>\n",
       "    </tr>\n",
       "  </thead>\n",
       "  <tbody>\n",
       "    <tr>\n",
       "      <th>0</th>\n",
       "      <td>SeGAN</td>\n",
       "      <td>21100349</td>\n",
       "      <td>0.866667</td>\n",
       "      <td>0.974689</td>\n",
       "      <td>0.980413</td>\n",
       "    </tr>\n",
       "    <tr>\n",
       "      <th>1</th>\n",
       "      <td>SegResNetVAE</td>\n",
       "      <td>21100369</td>\n",
       "      <td>0.630039</td>\n",
       "      <td>0.879377</td>\n",
       "      <td>0.799843</td>\n",
       "    </tr>\n",
       "    <tr>\n",
       "      <th>2</th>\n",
       "      <td>UNet</td>\n",
       "      <td>21100397</td>\n",
       "      <td>0.797375</td>\n",
       "      <td>0.953737</td>\n",
       "      <td>0.967423</td>\n",
       "    </tr>\n",
       "    <tr>\n",
       "      <th>3</th>\n",
       "      <td>UNet++</td>\n",
       "      <td>21100408</td>\n",
       "      <td>0.831101</td>\n",
       "      <td>0.973065</td>\n",
       "      <td>0.983647</td>\n",
       "    </tr>\n",
       "    <tr>\n",
       "      <th>4</th>\n",
       "      <td>UNETR</td>\n",
       "      <td>21100414</td>\n",
       "      <td>0.813753</td>\n",
       "      <td>0.959312</td>\n",
       "      <td>0.958588</td>\n",
       "    </tr>\n",
       "  </tbody>\n",
       "</table>\n",
       "</div>"
      ],
      "text/plain": [
       "          label   version  cort DSC  trab DSC  back DSC\n",
       "0         SeGAN  21100349  0.866667  0.974689  0.980413\n",
       "1  SegResNetVAE  21100369  0.630039  0.879377  0.799843\n",
       "2          UNet  21100397  0.797375  0.953737  0.967423\n",
       "3        UNet++  21100408  0.831101  0.973065  0.983647\n",
       "4         UNETR  21100414  0.813753  0.959312  0.958588"
      ]
     },
     "execution_count": 4,
     "metadata": {},
     "output_type": "execute_result"
    }
   ],
   "source": [
    "df"
   ]
  },
  {
   "cell_type": "code",
   "execution_count": 5,
   "id": "e9637111",
   "metadata": {},
   "outputs": [
    {
     "data": {
      "image/png": "[encoded data removed]",
      "text/plain": [
       "<Figure size 1200x800 with 1 Axes>"
      ]
     },
     "metadata": {},
     "output_type": "display_data"
    }
   ],
   "source": [
    "rc = {'figure.figsize':(10,5),\n",
    "      'axes.facecolor':'white',\n",
    "      'axes.grid' : True,\n",
    "      'grid.color': '1',\n",
    "      'font.family':'Arial',\n",
    "      'font.size' : 20}\n",
    "plt.rcParams.update(rc)\n",
    "\n",
    "\n",
    "plt.figure(figsize=(12,8))\n",
    "\n",
    "ax = sns.barplot(data=df, y=\"label\", x=\"cort DSC\", palette=\"Reds\")\n",
    "# plt.legend(loc=\"lower left\")\n",
    "\n",
    "ax.set(\n",
    "    ylabel=\"\",\n",
    "    xlabel=\"Dice Similarity Coefficient, Cortical Mask\"\n",
    ")\n",
    "\n",
    "for i in ax.containers:\n",
    "    ax.bar_label(i, fmt=\"%0.2f\")\n",
    "\n",
    "plt.grid(axis=\"x\")\n",
    "sns.despine()\n",
    "\n",
    "plt.show()"
   ]
  },
  {
   "cell_type": "markdown",
   "id": "3ad8cf8c",
   "metadata": {},
   "source": [
    "Let's instantiate a SeGAN and load the checkpoint of the best model to see qualitatively how it's doing..."
   ]
  },
  {
   "cell_type": "code",
   "execution_count": 6,
   "id": "f85346b2",
   "metadata": {},
   "outputs": [
    {
     "name": "stdout",
     "output_type": "stream",
     "text": [
      "Loading model and task from: ../from_arc/segan_3d_knee_base_cv/21100349_f0/checkpoints/epoch=49-step=1300.ckpt\n"
     ]
    }
   ],
   "source": [
    "ref_model_dir = path.join(\"..\", \"from_arc\", \"segan_3d_knee_base_cv\", \"21100349_f0\")\n",
    "ref_hparams_fn = path.join(ref_model_dir, \"hparams.yaml\")\n",
    "\n",
    "with open(ref_hparams_fn) as f:\n",
    "    ref_hparams = yaml.safe_load(f)\n",
    "\n",
    "# create the model\n",
    "model_kwargs = {\n",
    "    'input_channels': ref_hparams[\"input_channels\"],\n",
    "    'output_classes': ref_hparams[\"output_channels\"],\n",
    "    'num_filters': ref_hparams[\"model_channels\"],\n",
    "    'channels_per_group': ref_hparams[\"channels_per_group\"],\n",
    "    'upsample_mode': ref_hparams[\"upsample_mode\"],\n",
    "    'is_3d': ref_hparams[\"is_3d\"]\n",
    "}\n",
    "segmentor, discriminators = get_segmentor_and_discriminators(**model_kwargs)\n",
    "segmentor.float()\n",
    "for d in discriminators:\n",
    "    d.float()\n",
    "\n",
    "checkpoint_path = glob(path.join(ref_model_dir, \"checkpoints\", \"*.ckpt\"))[0]\n",
    "print(f\"Loading model and task from: {checkpoint_path}\")"
   ]
  },
  {
   "cell_type": "code",
   "execution_count": 7,
   "id": "7ad85d5f",
   "metadata": {},
   "outputs": [],
   "source": [
    "task = SeGANTask.load_from_checkpoint(\n",
    "    checkpoint_path,\n",
    "    segmentor=segmentor,\n",
    "    discriminators=discriminators,\n",
    "    loss_function=L1Loss(),\n",
    "    learning_rate=ref_hparams[\"learning_rate\"],\n",
    "    map_location=torch.device(\"cpu\")\n",
    ")"
   ]
  },
  {
   "cell_type": "code",
   "execution_count": 1,
   "id": "e64b0ea2",
   "metadata": {},
   "outputs": [
    {
     "ename": "NameError",
     "evalue": "name 'task' is not defined",
     "output_type": "error",
     "traceback": [
      "\u001b[0;31m---------------------------------------------------------------------------\u001b[0m",
      "\u001b[0;31mNameError\u001b[0m                                 Traceback (most recent call last)",
      "\u001b[0;32m/var/folders/4v/b6spc2ss7m36qt264pl5knww0000gn/T/ipykernel_40528/1819376152.py\u001b[0m in \u001b[0;36m<module>\u001b[0;34m\u001b[0m\n\u001b[0;32m----> 1\u001b[0;31m \u001b[0mtask\u001b[0m\u001b[0;34m\u001b[0m\u001b[0;34m\u001b[0m\u001b[0m\n\u001b[0m",
      "\u001b[0;31mNameError\u001b[0m: name 'task' is not defined"
     ]
    }
   ],
   "source": [
    "task"
   ]
  },
  {
   "cell_type": "code",
   "execution_count": null,
   "id": "7907965f",
   "metadata": {},
   "outputs": [],
   "source": []
  },
  {
   "cell_type": "code",
   "execution_count": null,
   "id": "5a346460",
   "metadata": {},
   "outputs": [],
   "source": []
  },
  {
   "cell_type": "code",
   "execution_count": null,
   "id": "86f7a787",
   "metadata": {},
   "outputs": [],
   "source": []
  },
  {
   "cell_type": "code",
   "execution_count": null,
   "id": "ee83379f",
   "metadata": {},
   "outputs": [],
   "source": []
  }
 ],
 "metadata": {
  "kernelspec": {
   "display_name": "Python 3 (ipykernel)",
   "language": "python",
   "name": "python3"
  },
  "language_info": {
   "codemirror_mode": {
    "name": "ipython",
    "version": 3
   },
   "file_extension": ".py",
   "mimetype": "text/x-python",
   "name": "python",
   "nbconvert_exporter": "python",
   "pygments_lexer": "ipython3",
   "version": "3.7.12"
  }
 },
 "nbformat": 4,
 "nbformat_minor": 5
}
