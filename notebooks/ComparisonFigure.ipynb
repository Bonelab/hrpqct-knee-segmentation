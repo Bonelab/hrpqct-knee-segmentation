{
 "cells": [
  {
   "cell_type": "code",
   "execution_count": 1,
   "id": "bd89c819",
   "metadata": {},
   "outputs": [],
   "source": [
    "from __future__ import annotations\n",
    "\n",
    "from vtkbone import vtkboneAIMReader\n",
    "\n",
    "from bonelab.util.aim_calibration_header import get_aim_density_equation\n",
    "from bonelab.util.vtk_util import vtkImageData_to_numpy\n",
    "import numpy as np\n",
    "from enum import Enum\n",
    "\n",
    "import SimpleITK as sitk\n",
    "import pyvista as pv\n",
    "import vtk\n",
    "\n",
    "import os"
   ]
  },
  {
   "cell_type": "code",
   "execution_count": 4,
   "id": "1136e7e3",
   "metadata": {},
   "outputs": [],
   "source": [
    "sample_visualizations_dir = os.path.join(\n",
    "    \"/\", \"Users\", \"nathanneeteson\", \"Documents\", \"Data\",\n",
    "    \"Images\", \"AutoKneeAnalysis\", \"overview_figure\"\n",
    ")\n",
    "\n",
    "image_name = \"SLTC007L\"\n",
    "\n",
    "radius_dir = os.path.join(\n",
    "    \"/\", \"Users\", \"nathanneeteson\", \"Documents\", \"Data\",\n",
    "    \"Images\", \"HIPFX\"    \n",
    ")\n",
    "\n",
    "radius_name = \"HIPFXF_0001_RR\""
   ]
  },
  {
   "cell_type": "code",
   "execution_count": 3,
   "id": "e5ed5052",
   "metadata": {},
   "outputs": [
    {
     "name": "stderr",
     "output_type": "stream",
     "text": [
      "Resampling array Data from a Passed Mesh onto Mesh: 100%|██████████████████████████████████████████████████████████████████████████████████████[00:43<00:00]\n",
      "Resampling array Data from a Passed Mesh onto Mesh: 100%|██████████████████████████████████████████████████████████████████████████████████████[00:45<00:00]\n",
      "Resampling array Data from a Passed Mesh onto Mesh: 100%|██████████████████████████████████████████████████████████████████████████████████████[00:48<00:00]\n",
      "Resampling array Data from a Passed Mesh onto Mesh: 100%|██████████████████████████████████████████████████████████████████████████████████████[00:18<00:00]\n",
      "Resampling array Data from a Passed Mesh onto Mesh: 100%|██████████████████████████████████████████████████████████████████████████████████████[00:17<00:00]\n",
      "Resampling array Data from a Passed Mesh onto Mesh: 100%|██████████████████████████████████████████████████████████████████████████████████████[00:21<00:00]\n"
     ]
    }
   ],
   "source": [
    "resample_factor = 2\n",
    "\n",
    "reader = vtkboneAIMReader()\n",
    "reader.DataOnCellsOff()\n",
    "\n",
    "image_data = {}\n",
    "image_data[\"F\"] = {}\n",
    "image_data[\"T\"] = {}\n",
    "\n",
    "for bone in [\"F\", \"T\"]:\n",
    "    for image_type in [\"CORT\", \"TRAB\", \"ROI_ALL\"]:\n",
    "        \n",
    "        reader.SetFileName(os.path.join(\n",
    "            sample_visualizations_dir,\n",
    "            f\"{image_name}_{bone}_{image_type}.AIM\"\n",
    "        ))\n",
    "        reader.Update()\n",
    "        \n",
    "        image_data[bone][image_type] = pv.wrap(reader.GetOutput())\n",
    "        \n",
    "        \n",
    "        image_data[bone][image_type] = pv.create_grid(\n",
    "            image_data[bone][image_type],\n",
    "            dimensions=[d//resample_factor for d in image_data[bone][image_type].dimensions]\n",
    "        ).sample(image_data[bone][image_type], categorical=True, progress_bar=True)\n",
    "        \n",
    "       "
   ]
  },
  {
   "cell_type": "code",
   "execution_count": 27,
   "id": "780f7040",
   "metadata": {},
   "outputs": [
    {
     "name": "stderr",
     "output_type": "stream",
     "text": [
      "Resampling array Data from a Passed Mesh onto Mesh: 100%|██████████████████████████████████████████████████████████████████████████████████████[00:00<00:00]\n",
      "Resampling array Data from a Passed Mesh onto Mesh: 100%|██████████████████████████████████████████████████████████████████████████████████████[00:00<00:00]\n"
     ]
    }
   ],
   "source": [
    "image_data[\"R\"] = {}\n",
    "\n",
    "for image_type in [\"CORT\", \"TRAB\"]:\n",
    "    reader.SetFileName(os.path.join(\n",
    "        radius_dir,\n",
    "        f\"{radius_name}_{image_type}_MASK.AIM\"\n",
    "    ))\n",
    "    reader.Update()\n",
    "    \n",
    "    image_data[\"R\"][image_type] = pv.wrap(reader.GetOutput())\n",
    "\n",
    "\n",
    "    image_data[\"R\"][image_type] = pv.create_grid(\n",
    "        image_data[\"R\"][image_type],\n",
    "        dimensions=[d//resample_factor for d in image_data[\"R\"][image_type].dimensions]\n",
    "    ).sample(image_data[\"R\"][image_type], categorical=True, progress_bar=True)\n",
    "    \n",
    "    arr = image_data[\"R\"][image_type][\"AIMData\"].reshape(image_data[\"R\"][image_type].dimensions, order=\"F\")\n",
    "    for d in range(3):\n",
    "        for i in [0,-1]:\n",
    "            st = [slice(None), slice(None), slice(None)]\n",
    "            st[d] = i\n",
    "            st = tuple(st)\n",
    "            arr[st] = 0\n",
    "    image_data[\"R\"][image_type][\"AIMData\"] = arr.flatten(order=\"F\")"
   ]
  },
  {
   "cell_type": "code",
   "execution_count": 28,
   "id": "9f4d6cee",
   "metadata": {},
   "outputs": [
    {
     "name": "stderr",
     "output_type": "stream",
     "text": [
      "Computing Contour: 100%|███████████████████████████████████████████████████████████████████████████████████████████████████████████████████████[00:01<00:00]\n",
      "Computing Contour: 100%|███████████████████████████████████████████████████████████████████████████████████████████████████████████████████████[00:01<00:00]\n",
      "Computing Contour: 100%|███████████████████████████████████████████████████████████████████████████████████████████████████████████████████████[00:00<00:00]\n"
     ]
    }
   ],
   "source": [
    "progress_bar = True\n",
    "\n",
    "for img in image_data.values():\n",
    "    img[\"CORT contour\"] = img[\"CORT\"].contour([126], progress_bar=progress_bar)"
   ]
  },
  {
   "cell_type": "code",
   "execution_count": null,
   "id": "7bcbe71c",
   "metadata": {},
   "outputs": [],
   "source": [
    "pl = pv.Plotter(\n",
    "    notebook=False, \n",
    "    lighting='three lights', \n",
    "    window_size=(1200,600),\n",
    "    line_smoothing=True,\n",
    "    polygon_smoothing=True,\n",
    "    #theme=pv.themes.DocumentTheme(),\n",
    ")\n",
    "\n",
    "for bone in [\"F\", \"T\", \"R\"]:\n",
    "    pl.add_mesh(\n",
    "        image_data[bone][\"CORT contour\"].rotate_z(\n",
    "            90 if bone==\"R\" else 0,\n",
    "            (\n",
    "                image_data[bone][\"CORT contour\"].points.min(axis=0)\n",
    "                + (\n",
    "                    image_data[bone][\"CORT contour\"].points.max(axis=0)\n",
    "                    - image_data[bone][\"CORT contour\"].points.min(axis=0)\n",
    "                )/2\n",
    "            )\n",
    "        ).translate(\n",
    "            [\n",
    "                65 if bone==\"R\" else 0,\n",
    "                -15 if bone==\"R\" else 0,\n",
    "                20 if bone==\"R\" else 0\n",
    "            ]\n",
    "        ),\n",
    "        color=\"lightgray\"\n",
    "    )\n",
    "        \n",
    "pl.show()"
   ]
  },
  {
   "cell_type": "code",
   "execution_count": null,
   "id": "d9b8a436",
   "metadata": {},
   "outputs": [],
   "source": []
  },
  {
   "cell_type": "code",
   "execution_count": null,
   "id": "603a9192",
   "metadata": {},
   "outputs": [],
   "source": []
  },
  {
   "cell_type": "code",
   "execution_count": null,
   "id": "02b388e0",
   "metadata": {},
   "outputs": [],
   "source": []
  },
  {
   "cell_type": "code",
   "execution_count": null,
   "id": "aa065277",
   "metadata": {},
   "outputs": [],
   "source": []
  },
  {
   "cell_type": "code",
   "execution_count": null,
   "id": "74d59685",
   "metadata": {},
   "outputs": [],
   "source": []
  }
 ],
 "metadata": {
  "kernelspec": {
   "display_name": "Python 3 (ipykernel)",
   "language": "python",
   "name": "python3"
  },
  "language_info": {
   "codemirror_mode": {
    "name": "ipython",
    "version": 3
   },
   "file_extension": ".py",
   "mimetype": "text/x-python",
   "name": "python",
   "nbconvert_exporter": "python",
   "pygments_lexer": "ipython3",
   "version": "3.7.12"
  }
 },
 "nbformat": 4,
 "nbformat_minor": 5
}
